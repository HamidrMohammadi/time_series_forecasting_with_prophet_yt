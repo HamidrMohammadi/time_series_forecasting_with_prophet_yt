{
  "cells": [
    {
      "cell_type": "code",
      "execution_count": null,
      "metadata": {
        "colab": {
          "background_save": true
        },
        "id": "oPBgHdWasqcK"
      },
      "outputs": [],
      "source": [
        "import numpy as np\n",
        "import pandas as pd\n",
        "import seaborn as sns\n",
        "import matplotlib.pyplot as plt\n",
        "\n",
        "from prophet import Prophet\n",
        "\n",
        "from sklearn.metrics import mean_squared_error, mean_absolute_error\n",
        "\n",
        "import warnings\n",
        "warnings.filterwarnings(\"ignore\")\n",
        "\n",
        "plt.style.use('ggplot')\n",
        "plt.style.use('fivethirtyeight')\n",
        "\n",
        "def mean_absolute_percentage_error(y_true, y_pred):\n",
        "    \"\"\"Calculates MAPE given y_true and y_pred\"\"\"\n",
        "    y_true, y_pred = np.array(y_true), np.array(y_pred)\n",
        "    return np.mean(np.abs((y_true - y_pred) / y_true)) * 100"
      ]
    },
    {
      "cell_type": "code",
      "execution_count": null,
      "metadata": {
        "id": "IxJOVbFhsqcN"
      },
      "outputs": [],
      "source": [
        "pjme = pd.read_csv('PJME_hourly.csv',\n",
        "                   index_col=[0],\n",
        "                  parse_dates=[0])\n",
        "pjme.head()"
      ]
    },
    {
      "cell_type": "code",
      "execution_count": null,
      "metadata": {
        "id": "C79EGRKAsqcN"
      },
      "outputs": [],
      "source": [
        "color_pal = sns.color_palette()\n",
        "pjme.plot(style='.',\n",
        "          figsize=(10, 5),\n",
        "          ms=1,\n",
        "          color=color_pal[0],\n",
        "          title='PJME MW')\n",
        "plt.show()"
      ]
    },
    {
      "cell_type": "code",
      "execution_count": null,
      "metadata": {
        "id": "XsxEzYLVsqcQ"
      },
      "outputs": [],
      "source": [
        "split_date = '1-Jan-2015'\n",
        "pjme_train = pjme.loc[pjme.index <= split_date].copy()\n",
        "pjme_test = pjme.loc[pjme.index > split_date].copy()\n",
        "\n",
        "# Plot train and test so you can see where we have split\n",
        "pjme_test \\\n",
        "    .rename(columns={'PJME_MW': 'TEST SET'}) \\\n",
        "    .join(pjme_train.rename(columns={'PJME_MW': 'TRAINING SET'}),\n",
        "          how='outer') \\\n",
        "    .plot(figsize=(10, 5), title='PJM East', style='.', ms=1)\n",
        "plt.show()"
      ]
    },
    {
      "cell_type": "code",
      "execution_count": null,
      "metadata": {
        "id": "Zer8SzMvsqcR"
      },
      "outputs": [],
      "source": [
        "# Format data for prophet model using ds and y\n",
        "pjme_train_prophet = pjme_train.reset_index() \\\n",
        "    .rename(columns={'Datetime':'ds',\n",
        "                     'PJME_MW':'y'})"
      ]
    },
    {
      "cell_type": "code",
      "execution_count": null,
      "metadata": {
        "id": "IADKlSo0sqcR"
      },
      "outputs": [],
      "source": [
        "%%time\n",
        "model = Prophet()\n",
        "model.fit(pjme_train_prophet)"
      ]
    },
    {
      "cell_type": "code",
      "execution_count": null,
      "metadata": {
        "id": "CU6PO29IsqcS"
      },
      "outputs": [],
      "source": [
        "# Predict on test set with model\n",
        "pjme_test_prophet = pjme_test.reset_index() \\\n",
        "    .rename(columns={'Datetime':'ds',\n",
        "                     'PJME_MW':'y'})\n",
        "\n",
        "pjme_test_fcst = model.predict(pjme_test_prophet)"
      ]
    },
    {
      "cell_type": "code",
      "execution_count": null,
      "metadata": {
        "id": "fhsmPXoksqcS"
      },
      "outputs": [],
      "source": [
        "pjme_test_fcst.head()"
      ]
    },
    {
      "cell_type": "code",
      "execution_count": null,
      "metadata": {
        "id": "xXyWLKbbsqcS"
      },
      "outputs": [],
      "source": [
        "fig, ax = plt.subplots(figsize=(10, 5))\n",
        "fig = model.plot(pjme_test_fcst, ax=ax)\n",
        "ax.set_title('Prophet Forecast')\n",
        "plt.show()"
      ]
    },
    {
      "cell_type": "code",
      "execution_count": null,
      "metadata": {
        "id": "EN8qm3UVsqcT"
      },
      "outputs": [],
      "source": [
        "fig = model.plot_components(pjme_test_fcst)\n",
        "plt.show()"
      ]
    },
    {
      "cell_type": "code",
      "execution_count": null,
      "metadata": {
        "id": "-sQGpcCDsqcT"
      },
      "outputs": [],
      "source": [
        "# Plot the forecast with the actuals\n",
        "f, ax = plt.subplots(figsize=(15, 5))\n",
        "ax.scatter(pjme_test.index, pjme_test['PJME_MW'], color='r')\n",
        "fig = model.plot(pjme_test_fcst, ax=ax)"
      ]
    },
    {
      "cell_type": "code",
      "execution_count": null,
      "metadata": {
        "id": "qbCJOmTKsqcT"
      },
      "outputs": [],
      "source": [
        "fig, ax = plt.subplots(figsize=(10, 5))\n",
        "ax.scatter(pjme_test.index, pjme_test['PJME_MW'], color='r')\n",
        "fig = model.plot(pjme_test_fcst, ax=ax)\n",
        "ax.set_xbound(lower='01-01-2015',\n",
        "              upper='02-01-2015')\n",
        "ax.set_ylim(0, 60000)\n",
        "plot = plt.suptitle('January 2015 Forecast vs Actuals')"
      ]
    },
    {
      "cell_type": "code",
      "execution_count": null,
      "metadata": {
        "id": "dSmKyJLXsqcT"
      },
      "outputs": [],
      "source": [
        "# Plot the forecast with the actuals\n",
        "f, ax = plt.subplots(figsize=(15, 5))\n",
        "ax.scatter(pjme_test.index, pjme_test['PJME_MW'], color='r')\n",
        "fig = model.plot(pjme_test_fcst, ax=ax)\n",
        "ax.set_xbound(lower='01-01-2015', upper='01-08-2015')\n",
        "ax.set_ylim(0, 60000)\n",
        "ax.set_title('First Week of January Forecast vs Actuals')\n",
        "plt.show()"
      ]
    },
    {
      "cell_type": "code",
      "execution_count": null,
      "metadata": {
        "id": "sdqV9dcasqcU"
      },
      "outputs": [],
      "source": [
        "np.sqrt(mean_squared_error(y_true=pjme_test['PJME_MW'],\n",
        "                   y_pred=pjme_test_fcst['yhat']))"
      ]
    },
    {
      "cell_type": "code",
      "execution_count": null,
      "metadata": {
        "id": "inn92v-bsqcU"
      },
      "outputs": [],
      "source": [
        "mean_absolute_error(y_true=pjme_test['PJME_MW'],\n",
        "                   y_pred=pjme_test_fcst['yhat'])"
      ]
    },
    {
      "cell_type": "code",
      "execution_count": null,
      "metadata": {
        "id": "b9N9qLdWsqcU"
      },
      "outputs": [],
      "source": [
        "mean_absolute_percentage_error(y_true=pjme_test['PJME_MW'],\n",
        "                   y_pred=pjme_test_fcst['yhat'])"
      ]
    },
    {
      "cell_type": "code",
      "execution_count": null,
      "metadata": {
        "id": "p_Osq0D5sqcU"
      },
      "outputs": [],
      "source": [
        "from pandas.tseries.holiday import USFederalHolidayCalendar as calendar\n",
        "\n",
        "cal = calendar()\n",
        "\n",
        "\n",
        "holidays = cal.holidays(start=pjme.index.min(),\n",
        "                        end=pjme.index.max(),\n",
        "                        return_name=True)\n",
        "holiday_df = pd.DataFrame(data=holidays,\n",
        "                          columns=['holiday'])\n",
        "holiday_df = holiday_df.reset_index().rename(columns={'index':'ds'})"
      ]
    },
    {
      "cell_type": "code",
      "execution_count": null,
      "metadata": {
        "id": "dTyNkMzSsqcV"
      },
      "outputs": [],
      "source": [
        "%%time\n",
        "model_with_holidays = Prophet(holidays=holiday_df)\n",
        "model_with_holidays.fit(pjme_train_prophet)"
      ]
    },
    {
      "cell_type": "code",
      "execution_count": null,
      "metadata": {
        "id": "bJg8ef3PsqcV"
      },
      "outputs": [],
      "source": [
        "# Predict on training set with model\n",
        "pjme_test_fcst_with_hols = \\\n",
        "    model_with_holidays.predict(df=pjme_test_prophet)"
      ]
    },
    {
      "cell_type": "code",
      "execution_count": null,
      "metadata": {
        "id": "JVvUfBUWsqcV"
      },
      "outputs": [],
      "source": [
        "fig = model_with_holidays.plot_components(\n",
        "    pjme_test_fcst_with_hols)\n",
        "plt.show()"
      ]
    },
    {
      "cell_type": "code",
      "execution_count": null,
      "metadata": {
        "id": "30ZYF5ZwsqcV"
      },
      "outputs": [],
      "source": [
        "fig, ax = plt.subplots(figsize=(10, 5))\n",
        "ax.scatter(pjme_test.index, pjme_test['PJME_MW'], color='r')\n",
        "fig = model.plot(pjme_test_fcst_with_hols, ax=ax)\n",
        "ax.set_xbound(lower='07-01-2015',\n",
        "              upper='07-07-2015')\n",
        "ax.set_ylim(0, 60000)\n",
        "plot = plt.suptitle('July 4 Predictions vs Actual')"
      ]
    },
    {
      "cell_type": "code",
      "execution_count": null,
      "metadata": {
        "id": "6fwDQyyzsqcV"
      },
      "outputs": [],
      "source": [
        "np.sqrt(mean_squared_error(y_true=pjme_test['PJME_MW'],\n",
        "                   y_pred=pjme_test_fcst_with_hols['yhat']))"
      ]
    },
    {
      "cell_type": "code",
      "execution_count": null,
      "metadata": {
        "id": "pX6Mp41hsqcW"
      },
      "outputs": [],
      "source": [
        "mean_absolute_error(y_true=pjme_test['PJME_MW'],\n",
        "                   y_pred=pjme_test_fcst_with_hols['yhat'])"
      ]
    },
    {
      "cell_type": "code",
      "execution_count": null,
      "metadata": {
        "id": "iiFj_CSAsqcW"
      },
      "outputs": [],
      "source": [
        "mean_absolute_percentage_error(y_true=pjme_test['PJME_MW'],\n",
        "                   y_pred=pjme_test_fcst_with_hols['yhat'])"
      ]
    },
    {
      "cell_type": "code",
      "execution_count": null,
      "metadata": {
        "id": "h3rW-VrSsqcW"
      },
      "outputs": [],
      "source": [
        "future = model.make_future_dataframe(periods=365*24, freq='h', include_history=False)\n",
        "forecast = model_with_holidays.predict(future)"
      ]
    },
    {
      "cell_type": "code",
      "execution_count": null,
      "metadata": {
        "id": "tNlIRmlUsqcW"
      },
      "outputs": [],
      "source": [
        "forecast[['ds','yhat']].head()"
      ]
    }
  ],
  "metadata": {
    "colab": {
      "provenance": []
    },
    "kaggle": {
      "accelerator": "gpu",
      "dataSources": [
        {
          "datasetId": 48149,
          "sourceId": 87794,
          "sourceType": "datasetVersion"
        }
      ],
      "dockerImageVersionId": 18195,
      "isGpuEnabled": true,
      "isInternetEnabled": false,
      "language": "python",
      "sourceType": "notebook"
    },
    "kernelspec": {
      "display_name": "Python 3",
      "language": "python",
      "name": "python3"
    },
    "language_info": {
      "codemirror_mode": {
        "name": "ipython",
        "version": 3
      },
      "file_extension": ".py",
      "mimetype": "text/x-python",
      "name": "python",
      "nbconvert_exporter": "python",
      "pygments_lexer": "ipython3",
      "version": "3.6.4"
    }
  },
  "nbformat": 4,
  "nbformat_minor": 0
}